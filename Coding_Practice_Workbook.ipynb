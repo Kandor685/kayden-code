{
 "cells": [
  {
   "cell_type": "markdown",
   "metadata": {
    "slideshow": {
     "slide_type": "slide"
    }
   },
   "source": [
    "### Python Learning Notebook\n",
    "\n",
    "#### Python Programming Topics\n",
    "---\n",
    "### 2.1 Program Data\n",
    "\n",
    "#### 2.1.1 Data Types\n",
    "\n",
    "**String**\n",
    "A `string` is a sequence of characters used to represent text. Strings are enclosed in either single quotes (`'`) or double quotes (`\"`).\n",
    "\n",
    "🔹 Example\n",
    "```python\n",
    "# Define a string variable\n",
    "name = \"Alice\"  # Assign the string \"Alice\" to the variable name\n",
    "print(name)  # Output the value of the variable name\n",
    "```\n",
    "#### ⚠️Exercises:\n",
    "\n",
    "- <span style='color:Green'>Beginner</span> : Create a string variable to store your favorite color and print it.\n",
    "- <span style='color:Orange'>Intermediate</span> : Concatenate two string variables and print the result.\n",
    "- <span style='color:Red'>Advanced</span> : Write a function that takes a string and returns the string reversed.\n"
   ]
  },
  {
   "cell_type": "code",
   "execution_count": 823,
   "metadata": {},
   "outputs": [
    {
     "name": "stdout",
     "output_type": "stream",
     "text": [
      "Hello World!\n"
     ]
    }
   ],
   "source": [
    "# Complete your Task/Tasks Here\n",
    "String1= \"Hello \"\n",
    "String2= \"World!\"\n",
    "string3= String1 + String2\n",
    "print(string3)"
   ]
  },
  {
   "cell_type": "markdown",
   "metadata": {},
   "source": [
    "\n",
    "**Character**\n",
    "\n",
    "A `character` is a single character, often represented as a string of length one.\n",
    "\n",
    "🔹 Example\n",
    "#### Define a character variable\n",
    "```python\n",
    "initial = 'A'  # Assign the character 'A' to the variable initial\n",
    "print(initial)  # Output the value of the variable initial\n",
    "```\n",
    "#### ⚠️Exercises:\n",
    "\n",
    "- <span style='color:Green'>Beginner</span> : Create a character variable to store the first letter of your name and print it.\n",
    "- <span style='color:Orange'>Intermediate</span> : Write a function that checks if a given character is a vowel.\n",
    "- <span style='color:Red'>Advanced</span> : Write a function that counts the number of occurrences of a specific character in a string.\n"
   ]
  },
  {
   "cell_type": "code",
   "execution_count": 824,
   "metadata": {},
   "outputs": [
    {
     "name": "stdout",
     "output_type": "stream",
     "text": [
      "1 isn't a vowel!\n"
     ]
    }
   ],
   "source": [
    "# Complete your Task/Tasks Here\n",
    "vowels = [\"a\", \"e\", \"i\", \"o\", \"u\", \"A\", \"E\", \"I\", \"O\", \"U\"]\n",
    "\n",
    "def Vowel_Check():\n",
    "    Letter =input(\"Enter a Letter\")\n",
    "    if Letter in vowels:\n",
    "        print(Letter, \" is a vowel!\")\n",
    "    else:\n",
    "        print (Letter, \"isn't a vowel!\")\n",
    "Vowel_Check()"
   ]
  },
  {
   "cell_type": "markdown",
   "metadata": {},
   "source": [
    "**Integer**\n",
    "\n",
    "An `integer` is a whole number without a fractional component.\n",
    "\n",
    "🔹 Example\n",
    "#### Define an integer variable\n",
    "```python\n",
    "age = 25  # Assign the integer value 25 to the variable age\n",
    "print(age)  # Output the value of the variable age\n",
    "```\n",
    "#### ⚠️Exercises:\n",
    "\n",
    "- <span style='color:Green'>Beginner</span> : Create an integer variable to store your age and print it.\n",
    "- <span style='color:Orange'>Intermediate</span> : Write a function that takes two integers and returns their sum.\n",
    "- <span style='color:Red'>Advanced</span> : Write a function that calculates the factorial of a given integer.\n"
   ]
  },
  {
   "cell_type": "code",
   "execution_count": 825,
   "metadata": {},
   "outputs": [
    {
     "name": "stdout",
     "output_type": "stream",
     "text": [
      "The sum of 1.0 and 1.0 is 2.0!\n"
     ]
    }
   ],
   "source": [
    "# Complete your Task/Tasks Here\n",
    "\n",
    "def sum_generate():\n",
    "    num1 = float(input(\"Enter First Number: \"))\n",
    "    num2 = float(input(\"Enter Second Number: \"))\n",
    "    total = num1 + num2\n",
    "    print(f\"The sum of {num1} and {num2} is {total}!\")\n",
    "\n",
    "sum_generate()"
   ]
  },
  {
   "cell_type": "markdown",
   "metadata": {},
   "source": [
    "**Real/Float**\n",
    "\n",
    "A `float` (or real number) is a number with a fractional component.\n",
    "\n",
    "🔹 Example\n",
    "#### Define a float variable\n",
    "```python\n",
    "height = 5.9  # Assign the float value 5.9 to the variable height\n",
    "print(height)  # Output the value of the variable height\n",
    "```\n",
    "#### ⚠️Exercises:\n",
    "\n",
    "- <span style='color:Green'>Beginner</span> : Create a float variable to store your height and print it.\n",
    "- <span style='color:Orange'>Intermediate</span> : Write a function that takes two floats and returns their product.\n",
    "- <span style='color:Red'>Advanced</span> : Write a function that calculates the area of a circle given its radius.\n"
   ]
  },
  {
   "cell_type": "code",
   "execution_count": 826,
   "metadata": {},
   "outputs": [
    {
     "name": "stdout",
     "output_type": "stream",
     "text": [
      "The product of 1.0 and 1.0 is 1.0!\n"
     ]
    }
   ],
   "source": [
    "# Complete your Task/Tasks Here\n",
    "\n",
    "def product_generate():\n",
    "    num1 = float(input(\"Enter First Number: \"))\n",
    "    num2 = float(input(\"Enter Second Number: \"))\n",
    "    total = num1 * num2\n",
    "    print(f\"The product of {num1} and {num2} is {total}!\")\n",
    "\n",
    "product_generate()"
   ]
  },
  {
   "cell_type": "markdown",
   "metadata": {},
   "source": [
    "**Boolean**\n",
    "\n",
    "A `Boolean` represents true or false values.\n",
    "\n",
    "🔹 Example\n",
    "#### Define a Boolean variable\n",
    "```python\n",
    "is_student = True  # Assign the Boolean value True to the variable is_student\n",
    "print(is_student)  # Output the value of the variable is_student\n",
    "```\n",
    "#### ⚠️Exercises:\n",
    "\n",
    "- <span style='color:Green'>Beginner</span> : Create a Boolean variable to indicate if you are a student and print it.\n",
    "- <span style='color:Orange'>Intermediate</span> : Write a function that takes a Boolean and returns its negation.\n",
    "- <span style='color:Red'>Advanced</span> : Write a function that checks if a given number is even or odd and returns a Boolean."
   ]
  },
  {
   "cell_type": "code",
   "execution_count": 827,
   "metadata": {},
   "outputs": [],
   "source": [
    "# Complete your Task/Tasks Here\n",
    "\n",
    "# ?"
   ]
  },
  {
   "cell_type": "markdown",
   "metadata": {},
   "source": [
    "#### 2.1.2 Constants and Variables\n",
    "**Constants**\n",
    "\n",
    "`Constants` are values that do not change during program execution.\n",
    "\n",
    "🔹 Example\n",
    "#### Define a constant\n",
    "```python\n",
    "PI = 3.14159  # Assign the constant value 3.14159 to PI\n",
    "print(PI)  # Output the value of the constant PI\n",
    "```\n",
    "#### ⚠️Exercises:\n",
    "\n",
    "- <span style='color:Green'>Beginner</span> : Define a constant for the speed of light and print it.\n",
    "- <span style='color:Orange'>Intermediate</span> : Write a function that uses a constant to calculate the circumference of a circle given its radius.\n",
    "- <span style='color:Red'>Advanced</span> : Write a function that uses a constant to convert temperatures from Celsius to Fahrenheit.\n"
   ]
  },
  {
   "cell_type": "code",
   "execution_count": 828,
   "metadata": {},
   "outputs": [
    {
     "name": "stdout",
     "output_type": "stream",
     "text": [
      "1.0°F in Celsius is -17.22222222222222°C!\n"
     ]
    }
   ],
   "source": [
    "# Complete your Task/Tasks Here\n",
    "def Farenheit_Convert():\n",
    "    Farenheit = float(input(\"Enter temperature in Farenheit: \"))\n",
    "    Celsius = ((Farenheit - 32) * (5/9))\n",
    "    print (f\"{Farenheit}°F in Celsius is {Celsius}°C!\")\n",
    "Farenheit_Convert()"
   ]
  },
  {
   "cell_type": "markdown",
   "metadata": {},
   "source": [
    "**Variables**\n",
    "\n",
    "`Variables` are values that can change during program execution.\n",
    "\n",
    "🔹 Example\n",
    "#### Define a variable\n",
    "```python\n",
    "score = 0  # Assign the initial value 0 to the variable score\n",
    "score += 10  # Increment the value of score by 10\n",
    "print(score)  # Output the updated value of the variable score\n",
    "```\n",
    "####⚠️Exercises:\n",
    "- <span style='color:Green'>Beginner</span> : Create a variable to store your current score in a game and print it.\n",
    "- <span style='color:Orange'>Intermediate</span> : Write a function that takes a variable and increments it by a given value.\n",
    "- <span style='color:Red'>Advanced</span> : Write a function that simulates a simple counter that increments every second.\n"
   ]
  },
  {
   "cell_type": "code",
   "execution_count": 829,
   "metadata": {},
   "outputs": [
    {
     "name": "stdout",
     "output_type": "stream",
     "text": [
      "500\n"
     ]
    }
   ],
   "source": [
    "# Complete your Task/Tasks Here\n",
    "\n",
    "game_score = 500\n",
    "print(game_score)"
   ]
  },
  {
   "cell_type": "markdown",
   "metadata": {},
   "source": [
    "#### 2.1.3 Data Structures\n",
    "**List**\n",
    "\n",
    "A `list` is an ordered collection of items.\n",
    "\n",
    "🔹 Example\n",
    "#### Define a list\n",
    "```python\n",
    "fruits = [\"apple\", \"banana\", \"cherry\"]  # Create a list of fruits\n",
    "print(fruits)  # Output the list of fruits\n",
    "```\n",
    "#### ⚠️Exercises:\n",
    "\n",
    "- <span style='color:Green'>Beginner</span> : Create a list of your favorite fruits and print it.\n",
    "- <span style='color:Orange'>Intermediate</span> : Write a function that takes a list and returns the list sorted in alphabetical order.\n",
    "- <span style='color:Red'>Advanced</span> : Write a function that removes duplicates from a list.\n"
   ]
  },
  {
   "cell_type": "code",
   "execution_count": 830,
   "metadata": {},
   "outputs": [
    {
     "ename": "TypeError",
     "evalue": "unbound method list.sort() needs an argument",
     "output_type": "error",
     "traceback": [
      "\u001b[31m---------------------------------------------------------------------------\u001b[39m",
      "\u001b[31mTypeError\u001b[39m                                 Traceback (most recent call last)",
      "\u001b[36mCell\u001b[39m\u001b[36m \u001b[39m\u001b[32mIn[830]\u001b[39m\u001b[32m, line 8\u001b[39m\n\u001b[32m      6\u001b[39m     sorted_list = \u001b[38;5;28mlist\u001b[39m.sort()\n\u001b[32m      7\u001b[39m     \u001b[38;5;28mprint\u001b[39m(sorted_list)\n\u001b[32m----> \u001b[39m\u001b[32m8\u001b[39m \u001b[43mlist_sort\u001b[49m\u001b[43m(\u001b[49m\u001b[43m)\u001b[49m\n",
      "\u001b[36mCell\u001b[39m\u001b[36m \u001b[39m\u001b[32mIn[830]\u001b[39m\u001b[32m, line 6\u001b[39m, in \u001b[36mlist_sort\u001b[39m\u001b[34m()\u001b[39m\n\u001b[32m      5\u001b[39m \u001b[38;5;28;01mdef\u001b[39;00m\u001b[38;5;250m \u001b[39m\u001b[34mlist_sort\u001b[39m():\n\u001b[32m----> \u001b[39m\u001b[32m6\u001b[39m     sorted_list = \u001b[38;5;28;43mlist\u001b[39;49m\u001b[43m.\u001b[49m\u001b[43msort\u001b[49m\u001b[43m(\u001b[49m\u001b[43m)\u001b[49m\n\u001b[32m      7\u001b[39m     \u001b[38;5;28mprint\u001b[39m(sorted_list)\n",
      "\u001b[31mTypeError\u001b[39m: unbound method list.sort() needs an argument"
     ]
    }
   ],
   "source": [
    "# Complete your Task/Tasks Here\n",
    "\n",
    "list [42, 7, 89, 23, 15, 90, 3, 56, 78, 12]\n",
    "\n",
    "def list_sort():\n",
    "    sorted_list = list.sort()\n",
    "    print(sorted_list)\n",
    "list_sort()\n"
   ]
  },
  {
   "cell_type": "markdown",
   "metadata": {},
   "source": [
    "**Array**\n",
    "\n",
    "An `array` is similar to a list but is typically used for numerical data and requires importing the array module.\n",
    "\n",
    "#### Import the array module\n",
    "```Python\n",
    "from array import array\n",
    "\n",
    "🔹 Example\n",
    "\n",
    "# Define an array\n",
    "numbers = array('i', [1, 2, 3])  # Create an array of integers\n",
    "print(numbers)  # Output the array of numbers\n",
    "```\n",
    "#### ⚠️Exercises:\n",
    "\n",
    "- <span style='color:Green'>Beginner</span> : Create an array of integers and print it.\n",
    "- <span style='color:Orange'>Intermediate</span>: Write a function that takes an array and returns the sum of its elements.\n",
    "- <span style='color:Red'>Advanced</span> : Write a function that finds the maximum value in an array.\n"
   ]
  },
  {
   "cell_type": "code",
   "execution_count": 791,
   "metadata": {},
   "outputs": [],
   "source": [
    "# Complete your Task/Tasks Here"
   ]
  },
  {
   "cell_type": "markdown",
   "metadata": {},
   "source": [
    "**Dictionary**\n",
    "\n",
    "A `dictionary` is a collection of key-value pairs.\n",
    "\n",
    "🔹 Example\n",
    "#### Define a dictionary\n",
    "```python\n",
    "student = {\"name\": \"Alice\", \"age\": 25}  # Create a dictionary with student information\n",
    "print(student)  # Output the dictionary\n",
    "```\n",
    "#### ⚠️Exercises:\n",
    "\n",
    "- <span style='color:Green'>Beginner</span> : Create a dictionary to store information about a book and print it.\n",
    "- <span style='color:Orange'>Intermediate</span> : Write a function that takes a dictionary and returns a list of its keys.\n",
    "- <span style='color:Red'>Advanced</span> : Write a function that merges two dictionaries.\n"
   ]
  },
  {
   "cell_type": "markdown",
   "metadata": {},
   "source": [
    "#### 2.1.4 Managing Variables\n",
    "#### Local and Global Variables\n",
    "\n",
    "`Local variables` are defined within a function and can only be accessed within that function. `Global variables` are defined outside of any function and can be accessed from any part of the program.\n",
    "\n",
    "🔹 Example\n",
    "#### Define a global variable\n",
    "```python\n",
    "global_var = \"I'm global\"  # Assign the string \"I'm global\" to the global variable global_var\n",
    "\n",
    "def my_function():\n",
    "    # Define a local variable\n",
    "    local_var = \"I'm local\"  # Assign the string \"I'm local\" to the local variable local_var\n",
    "    print(local_var)  # Output the value of the local variable\n",
    "\n",
    "my_function()  # Call the function my_function\n",
    "print(global_var)  # Output the value of the global variable\n",
    "```\n",
    "#### ⚠️Exercises:\n",
    "\n",
    "- <span style='color:Green'>Beginner</span> : Create a function that uses a local variable and print its value.\n",
    "- <span style='color:Orange'>Intermediate</span> : Write a function that modifies a global variable.\n",
    "- <span style='color:Red'>Advanced</span> : Write a function that demonstrates the use of both local and global variables.\n"
   ]
  },
  {
   "cell_type": "markdown",
   "metadata": {},
   "source": [
    "**Naming Conventions**\n",
    "\n",
    "`Naming conventions` help make code more readable and maintainable.\n",
    "\n",
    "#### Meaningful Names: Use descriptive names for variables.\n",
    "\n",
    "🔹 Example\n",
    "#### Define a variable with a meaningful name\n",
    "```python\n",
    "total_price = 100  # Assign the value 100 to the variable total_price\n",
    "Case Styles:\n",
    "camelCase: totalPrice\n",
    "UPPER CASE: TOTAL_PRICE\n",
    "snake_case: total_price\n",
    "PascalCase: TotalPrice\n",
    "```\n",
    "#### ⚠️Exercises:\n",
    "\n",
    "- <span style='color:Green'>Beginner</span> : Create variables using different naming conventions and print their values.\n",
    "- <span style='color:Orange'>Intermediate</span> : Write a function that demonstrates the use of meaningful names.\n",
    "- <span style='color:Red'>Advanced</span> : Write a function that converts variable names from camelCase to snake_case."
   ]
  },
  {
   "cell_type": "code",
   "execution_count": 792,
   "metadata": {},
   "outputs": [],
   "source": [
    "# Choose a Task above or try to complete all"
   ]
  },
  {
   "cell_type": "markdown",
   "metadata": {},
   "source": [
    "---"
   ]
  },
  {
   "cell_type": "markdown",
   "metadata": {},
   "source": [
    "\n",
    "### 2.2 Operators\n",
    "#### 2.2.1 Mathematical Operators\n",
    "\n",
    "`Mathematical` operators are used to perform arithmetic operations.\n",
    "\n",
    "**Addition**\n",
    "\n",
    "The `addition` operator (+) adds two numbers.\n",
    "\n",
    "🔹 Example\n",
    "\n",
    "#### Perform addition\n",
    "```python\n",
    "result = 5 + 3  # Add 5 and 3, and assign the result to the variable result\n",
    "print(result)  # Output the result of the addition\n",
    "```\n",
    "#### ⚠️Exercises:\n",
    "\n",
    "- <span style='color:Green'>Beginner</span> : Create a function that adds two numbers and returns the result.\n",
    "- <span style='color:Orange'>Intermediate</span> : Write a function that adds all elements in a list.\n",
    "- <span style='color:Red'>Advanced</span> : Write a function that performs addition on complex numbers.\n"
   ]
  },
  {
   "cell_type": "code",
   "execution_count": 793,
   "metadata": {},
   "outputs": [],
   "source": [
    "# Choose a Task above or try to complete all"
   ]
  },
  {
   "cell_type": "markdown",
   "metadata": {},
   "source": [
    "\n",
    "\n",
    "**Subtraction**\n",
    "The `subtraction` operator (-) subtracts one number from another.\n",
    "\n",
    "🔹 Example\n",
    "\n",
    "#### Perform subtraction\n",
    "```python\n",
    "result = 5 - 3  # Subtract 3 from 5, and assign the result to the variable result\n",
    "print(result)  # Output the result of the subtraction\n",
    "```\n",
    "#### ⚠️Exercises:\n",
    "\n",
    "- <span style='color:Green'>Beginner</span> : Create a function that subtracts one number from another and returns the result.\n",
    "- <span style='color:Orange'>Intermediate</span> : Write a function that subtracts all elements in a list from a given number.\n",
    "- <span style='color:Red'>Advanced</span> : Write a function that performs subtraction on complex numbers.\n"
   ]
  },
  {
   "cell_type": "code",
   "execution_count": 794,
   "metadata": {},
   "outputs": [],
   "source": [
    "# Choose a Task above or try to complete all"
   ]
  },
  {
   "cell_type": "markdown",
   "metadata": {},
   "source": [
    "\n",
    "**Multiplication**\n",
    "The `multiplication` operator (*) multiplies two numbers.\n",
    "\n",
    "🔹 Example\n",
    "\n",
    "#### Perform multiplication\n",
    "```python\n",
    "result = 5 * 3  # Multiply 5 by 3, and assign the result to the variable result\n",
    "print(result)  # Output the result of the multiplication\n",
    "```\n",
    "#### ⚠️Exercises:\n",
    "\n",
    "- <span style='color:Green'>Beginner</span> : Create a function that multiplies two numbers and returns the result.\n",
    "- <span style='color:Orange'>Intermediate</span> : Write a function that multiplies all elements in a list.\n",
    "- <span style='color:Red'>Advanced</span> : Write a function that performs multiplication on complex numbers.\n"
   ]
  },
  {
   "cell_type": "code",
   "execution_count": 795,
   "metadata": {},
   "outputs": [],
   "source": [
    "# Choose a Task above or try to complete all"
   ]
  },
  {
   "cell_type": "markdown",
   "metadata": {},
   "source": [
    "\n",
    "\n",
    "**Division**\n",
    "\n",
    "The `division` operator (/) divides one number by another.\n",
    "\n",
    "🔹 Example\n",
    "\n",
    "#### Perform division\n",
    "```python\n",
    "result = 5 / 3  # Divide 5 by 3, and assign the result to the variable result\n",
    "print(result)  # Output the result of the division\n",
    "```\n",
    "#### ⚠️Exercises:\n",
    "\n",
    "- <span style='color:Green'>Beginner</span> : Create a function that divides one number by another and returns the result.\n",
    "- <span style='color:Orange'>Intermediate</span> : Write a function that divides all elements in a list by a given number.\n",
    "- <span style='color:Red'>Advanced</span> : Write a function that performs division on complex numbers.\n"
   ]
  },
  {
   "cell_type": "code",
   "execution_count": 796,
   "metadata": {},
   "outputs": [],
   "source": [
    "# Choose a Task above or try to complete all"
   ]
  },
  {
   "cell_type": "markdown",
   "metadata": {},
   "source": [
    "\n",
    "**Integer Division**\n",
    "\n",
    "The `integer` division operator (//) divides one number by another and returns the integer part of the quotient.\n",
    "\n",
    "🔹 Example\n",
    "\n",
    "#### Perform integer division\n",
    "```python\n",
    "result = 5 // 3  # Divide 5 by 3, and assign the integer part of the quotient to the variable result\n",
    "print(result)  # Output the result of the integer division\n",
    "```\n",
    "#### ⚠️Exercises:\n",
    "\n",
    "- <span style='color:Green'>Beginner</span> : Create a function that performs integer division on two numbers and returns the result.\n",
    "- <span style='color:Orange'>Intermediate</span> : Write a function that performs integer division on all elements in a list by a given number.\n",
    "- <span style='color:Red'>Advanced</span> : Write a function that performs integer division on complex numbers.\n"
   ]
  },
  {
   "cell_type": "code",
   "execution_count": 797,
   "metadata": {},
   "outputs": [],
   "source": [
    "# Choose a Task above or try to complete all"
   ]
  },
  {
   "cell_type": "markdown",
   "metadata": {},
   "source": [
    "\n",
    "\n",
    "**Modulus**\n",
    "\n",
    "The `modulus` operator (%) returns the remainder of the division of one number by another.\n",
    "\n",
    "🔹 Example\n",
    "\n",
    "#### Perform modulus operation\n",
    "```python\n",
    "result = 5 % 3  # Divide 5 by 3, and assign the remainder to the variable result\n",
    "print(result)  # Output the result of the modulus operation\n",
    "```\n",
    "#### ⚠️Exercises:\n",
    "\n",
    "- <span style='color:Green'>Beginner</span> : Create a function that performs modulus operation on two numbers and returns the result.\n",
    "- <span style='color:Orange'>Intermediate</span> : Write a function that performs modulus operation on all elements in a list by a given number.\n",
    "- <span style='color:Red'>Advanced</span> : Write a function that performs floor division on complex numbers."
   ]
  },
  {
   "cell_type": "code",
   "execution_count": 798,
   "metadata": {},
   "outputs": [],
   "source": [
    "# Choose a Task above or try to complete all"
   ]
  },
  {
   "cell_type": "markdown",
   "metadata": {},
   "source": [
    "#### 2.2.2 Relational Operators\n",
    "\n",
    "`Relational` operators are used to compare two values.\n",
    "\n",
    "**Equal to**\n",
    "\n",
    "The `equal` to operator (==) checks if two values are equal.\n",
    "🔹 Example\n",
    "#### Check if two values are equal\n",
    "```python\n",
    "print(5 == 5)  # Output: True, because 5 is equal to 5\n",
    "```\n",
    "#### ⚠️Exercises:\n",
    "- <span style='color:Green'>Beginner</span> : Create a function that checks if two numbers are equal.\n",
    "- <span style='color:Orange'>Intermediate</span> : Write a function that compares two strings and returns True if they are equal.\n",
    "- <span style='color:Red'>Advanced</span> : Write a function that checks if two lists are equal.\n"
   ]
  },
  {
   "cell_type": "code",
   "execution_count": 799,
   "metadata": {},
   "outputs": [],
   "source": [
    "# Choose a Task above or try to complete all"
   ]
  },
  {
   "cell_type": "markdown",
   "metadata": {},
   "source": [
    "**Less than**\n",
    "\n",
    "The `less than` operator (<) checks if one value is less than another.\n",
    "\n",
    "🔹 Example\n",
    "#### Check if one value is less than another\n",
    "```python\n",
    "print(5 < 3)  # Output: False, because 5 is not less than 3\n",
    "```\n",
    "#### ⚠️Exercises:\n",
    "- <span style='color:Green'>Beginner</span> : Create a function that checks if one number is less than another.\n",
    "- <span style='color:Orange'>Intermediate</span> : Write a function that compares the lengths of two strings and returns True if the first is shorter.\n",
    "- <span style='color:Red'>Advanced</span> : Write a function that checks if all elements in a list are less than a given value.\n"
   ]
  },
  {
   "cell_type": "code",
   "execution_count": 800,
   "metadata": {},
   "outputs": [],
   "source": [
    "# Choose a Task above or try to complete all"
   ]
  },
  {
   "cell_type": "markdown",
   "metadata": {},
   "source": [
    "**Greater than**\n",
    "\n",
    "The `greater than` operator (>) checks if one value is greater than another.\n",
    "\n",
    "🔹 Example\n",
    "#### Check if one value is greater than another\n",
    "```python\n",
    "print(5 > 3)  # Output: True, because 5 is greater than 3\n",
    "```\n",
    "#### ⚠️Exercises:\n",
    "- <span style='color:Green'>Beginner</span> : Create a function that checks if one number is greater than another.\n",
    "- <span style='color:Orange'>Intermediate</span> : Write a function that compares the lengths of two strings and returns True if the first is longer.\n",
    "- <span style='color:Red'>Advanced</span> : Write a function that checks if all elements in a list are greater than a given value.\n"
   ]
  },
  {
   "cell_type": "code",
   "execution_count": 801,
   "metadata": {},
   "outputs": [],
   "source": [
    "# Choose a Task above or try to complete all"
   ]
  },
  {
   "cell_type": "markdown",
   "metadata": {},
   "source": [
    "**Not equal to**\n",
    "\n",
    "The `not equal to` operator (!=) checks if two values are not equal.\n",
    "\n",
    "🔹 Example\n",
    "#### Check if two values are not equal\n",
    "```python\n",
    "print(5 != 3)  # Output: True, because 5 is not equal to 3\n",
    "```\n",
    "#### ⚠️Exercises:\n",
    "- <span style='color:Green'>Beginner</span> : Create a function that checks if two numbers are not equal.\n",
    "- <span style='color:Orange'>Intermediate</span> : Write a function that compares two strings and returns True if they are not equal.\n",
    "- <span style='color:Red'>Advanced</span> : Write a function that checks if two lists are not equal.\n"
   ]
  },
  {
   "cell_type": "code",
   "execution_count": 802,
   "metadata": {},
   "outputs": [],
   "source": [
    "# Choose a Task above or try to complete all"
   ]
  },
  {
   "cell_type": "markdown",
   "metadata": {},
   "source": [
    "**Less than or equal to**\n",
    "\n",
    "The `less than or equal to` operator (<=) checks if one value is less than or equal to another.\n",
    "\n",
    "🔹 Example\n",
    "#### Check if one value is less than or equal to another\n",
    "```python\n",
    "print(5 <= 5)  # Output: True, because 5 is equal to 5\n",
    "```\n",
    "#### ⚠️Exercises:\n",
    "- <span style='color:Green'>Beginner</span> : Create a function that checks if one number is less than or equal to another.\n",
    "- <span style='color:Orange'>Intermediate</span> : Write a function that compares the lengths of two strings and returns True if the first is shorter or equal.\n",
    "- <span style='color:Red'>Advanced</span> : Write a function that checks if all elements in a list are less than or equal to a given value.\n"
   ]
  },
  {
   "cell_type": "code",
   "execution_count": 803,
   "metadata": {},
   "outputs": [],
   "source": [
    "# Choose a Task above or try to complete all"
   ]
  },
  {
   "cell_type": "markdown",
   "metadata": {},
   "source": [
    "**Greater than or equal to**\n",
    "\n",
    "The greater than or equal to operator (>=) checks if one value is greater than or equal to another.\n",
    "\n",
    "🔹 Example\n",
    "#### Check if one value is greater than or equal to another\n",
    "```python\n",
    "print(5 >= 3)  # Output: True, because 5 is greater than 3\n",
    "```\n",
    "#### ⚠️Exercises:\n",
    "- <span style='color:Green'>Beginner</span> : Create a function that checks if one number is greater than or equal to another.\n",
    "- <span style='color:Orange'>Intermediate</span> : Write a function that compares the lengths of two strings and returns True if the first is longer or equal.\n",
    "- <span style='color:Red'>Advanced</span> : Write a function that checks if all elements in a list are greater than or equal to a given value.\n"
   ]
  },
  {
   "cell_type": "code",
   "execution_count": 804,
   "metadata": {},
   "outputs": [],
   "source": [
    "# Choose a Task above or try to complete all"
   ]
  },
  {
   "cell_type": "markdown",
   "metadata": {},
   "source": [
    "#### 2.2.3 Boolean Operators\n",
    "\n",
    "Boolean operators are used to perform logical operations.\n",
    "\n",
    "**NOT**\n",
    "\n",
    "The `NOT` operator (not) inverts the value of a Boolean expression.\n",
    "\n",
    "🔹 Example\n",
    "#### Perform NOT operation\n",
    "```python\n",
    "print(not True)  # Output: False, because NOT True is False\n",
    "Exercise:\n",
    "- <span style='color:Green'>Beginner</span> : Create a function that returns the negation of a Boolean value.\n",
    "- <span style='color:Orange'>Intermediate</span> : Write a function that checks if a number is not equal to zero.\n",
    "- <span style='color:Red'>Advanced</span> : Write a function that inverts the values in a list of Booleans.\n"
   ]
  },
  {
   "cell_type": "markdown",
   "metadata": {},
   "source": [
    "**AND**\n",
    "\n",
    "The `AND` operator (and) returns True if both operands are True.\n",
    "\n",
    "🔹 Example\n",
    "#### Perform AND operation\n",
    "```python\n",
    "print(True and False)  # Output: False, because both operands are not True\n",
    "```\n",
    "#### ⚠️Exercises:\n",
    "\n",
    "- <span style='color:Green'>Beginner</span> : Create a function that returns True if both input Booleans are True.\n",
    "- <span style='color:Orange'>Intermediate</span> : Write a function that checks if two numbers are both positive.\n",
    "- <span style='color:Red'>Advanced</span> : Write a function that performs an AND operation on two lists of Booleans.\n"
   ]
  },
  {
   "cell_type": "markdown",
   "metadata": {},
   "source": [
    "**OR**\n",
    "\n",
    "The `OR` operator (or) returns True if at least one operand is True.\n",
    "\n",
    "🔹 Example\n",
    "#### Perform OR operation\n",
    "```python\n",
    "print(True or False)  # Output: True, because at least one operand is True\n",
    "```\n",
    "#### ⚠️Exercises:\n",
    "- <span style='color:Green'>Beginner</span> : Create a function that returns True if at least one input Boolean is True.\n",
    "- <span style='color:Orange'>Intermediate</span> : Write a function that checks if at least one number in a list is positive.\n",
    "- <span style='color:Red'>Advanced</span> : Write a function that performs an OR operation on two lists of Booleans.\n"
   ]
  },
  {
   "cell_type": "markdown",
   "metadata": {},
   "source": [
    "---"
   ]
  },
  {
   "cell_type": "markdown",
   "metadata": {},
   "source": [
    "### 2.3 File Handling\n",
    "#### 2.3.1 Text Files\n",
    "\n",
    "Text files are used for input and output of data.\n",
    "\n",
    "**Reading from a file**\n",
    "\n",
    "To read from a file, use the open function with the mode 'r' (read).\n",
    "\n",
    "🔹 Example\n",
    "#### Open a file for reading\n",
    "```python\n",
    "with open('example.txt', 'r') as file:  # Open the file example.txt in read mode\n",
    "    content = file.read()  # Read the entire content of the file\n",
    "    print(content)  # Output the content of the file\n",
    "```\n",
    "#### ⚠️Exercises:\n",
    "\n",
    "- <span style='color:Green'>Beginner</span> : Create a text file and write some text into it, then read the text from the file and print it.\n",
    "- <span style='color:Orange'>Intermediate</span> : Write a function that reads a file line by line and prints each line.\n",
    "- <span style='color:Red'>Advanced</span> : Write a function that reads a file and counts the number of words in it.\n"
   ]
  },
  {
   "cell_type": "code",
   "execution_count": 805,
   "metadata": {},
   "outputs": [],
   "source": [
    "# Choose a Task above or try to complete all"
   ]
  },
  {
   "cell_type": "markdown",
   "metadata": {},
   "source": [
    "**Writing to a file**\n",
    "\n",
    "To write to a file, use the open function with the mode 'w' (write).\n",
    "\n",
    "🔹 Example\n",
    "#### Open a file for writing\n",
    "```python\n",
    "with open('example.txt', 'w') as file:  # Open the file example.txt in write mode\n",
    "    file.write('Hello, world!')  # Write the string 'Hello, world!' to the file\n",
    "```\n",
    "#### ⚠️Exercises:\n",
    "\n",
    "- <span style='color:Green'>Beginner</span> : Create a text file and write your name into it.\n",
    "- <span style='color:Orange'>Intermediate</span> : Write a function that writes a list of strings to a file, each on a new line.\n",
    "- <span style='color:Red'>Advanced</span> : Write a function that appends text to an existing file without overwriting its content.\n"
   ]
  },
  {
   "cell_type": "code",
   "execution_count": 806,
   "metadata": {},
   "outputs": [],
   "source": [
    "# Choose a Task above or try to complete all"
   ]
  },
  {
   "cell_type": "markdown",
   "metadata": {},
   "source": [
    "### 2.4 Program Structure\n",
    "#### 2.4.1 Sequence, Selection, and Iteration\n",
    "\n",
    "`Sequence`, `selection` (branching), and `iteration` are fundamental concepts in programming.\n",
    "\n",
    "**Sequence**\n",
    "\n",
    "Sequence refers to the execution of statements in a specific order.\n",
    "\n",
    "🔹 Example\n",
    "#### Define a sequence of operations\n",
    "```python\n",
    "result = (5 + 3) * 2  # Perform addition first, then multiplication\n",
    "print(result)  # Output the result of the operations\n",
    "```\n",
    "#### ⚠️Exercises:\n",
    "- <span style='color:Green'>Beginner</span> : Write a sequence of operations that calculates the area of a rectangle.\n",
    "- <span style='color:Orange'>Intermediate</span> : Write a sequence of operations that converts temperatures from Celsius to Fahrenheit.\n",
    "- <span style='color:Red'>Advanced</span> : Write a sequence of operations that calculates the compound interest on a given principal amount.\n"
   ]
  },
  {
   "cell_type": "code",
   "execution_count": 807,
   "metadata": {},
   "outputs": [],
   "source": [
    "# Choose a Task above or try to complete all"
   ]
  },
  {
   "cell_type": "markdown",
   "metadata": {},
   "source": [
    "**Selection (Branching)**\n",
    "\n",
    "Selection (branching) allows the program to make decisions based on conditions.\n",
    "\n",
    "🔹 Example\n",
    "#### Define a branching structure\n",
    "```python\n",
    "age = 20  # Assign the value 20 to the variable age\n",
    "if age < 18:  # Check if age is less than 18\n",
    "    print(\"Minor\")  # Output 'Minor' if the condition is true\n",
    "elif age < 65:  # Check if age is less than 65\n",
    "    print(\"Adult\")  # Output 'Adult' if the condition is true\n",
    "else:  # If none of the above conditions are true\n",
    "    print(\"Senior\")  # Output 'Senior'\n",
    "```\n",
    "#### ⚠️Exercises:\n",
    "- <span style='color:Green'>Beginner</span> : Write a branching structure that checks if a number is positive, negative, or zero.\n",
    "- <span style='color:Orange'>Intermediate</span> : Write a branching structure that assigns grades based on a score.\n",
    "- <span style='color:Red'>Advanced</span> : Write a branching structure that determines the type of triangle based on its side lengths.\n"
   ]
  },
  {
   "cell_type": "code",
   "execution_count": 808,
   "metadata": {},
   "outputs": [],
   "source": [
    "# Choose a Task above or try to complete all"
   ]
  },
  {
   "cell_type": "markdown",
   "metadata": {},
   "source": [
    "**Iteration**\n",
    "\n",
    "Iteration allows the program to repeat a block of code multiple times.\n",
    "\n",
    "🔹 Example\n",
    "#### Define a for loop\n",
    "```python\n",
    "for i in range(5):  # Iterate over the range 0 to 4\n",
    "    print(i)  # Output the current value of i\n",
    "```\n",
    "#### ⚠️Exercises:\n",
    "- <span style='color:Green'>Beginner</span> : Write a for loop that prints numbers from 1 to 10.\n",
    "- <span style='color:Orange'>Intermediate</span> : Write a while loop that prints the first 10 Fibonacci numbers.\n",
    "- <span style='color:Red'>Advanced</span> : Write a loop that iterates over a list of names and prints each name.\n"
   ]
  },
  {
   "cell_type": "code",
   "execution_count": 809,
   "metadata": {},
   "outputs": [],
   "source": [
    "# Choose a Task above or try to complete all"
   ]
  },
  {
   "cell_type": "markdown",
   "metadata": {},
   "source": [
    "#### 2.4.2 Sequence\n",
    "\n",
    "`Sequence` refers to the execution of statements in a specific order to ensure the correct flow of operations within a program.\n",
    "Determine the most efficient and logical order for actions within a process\n",
    "When writing code, it's important to determine the most efficient and logical order for actions to ensure the program runs smoothly and efficiently.\n",
    "\n",
    "##### 🔹 Example of a sequence of operations\n",
    "#### Calculate the area of a rectangle\n",
    "```python\n",
    "length = 5  # Assign the value 5 to the variable length\n",
    "width = 3  # Assign the value 3 to the variable width\n",
    "area = length * width  # Calculate the area by multiplying length and width\n",
    "print(f\"The area of the rectangle is {area}\")  # Output the area of the rectangle\n",
    "```\n",
    "Understand the correct order of operations in calculations and processes to ensure outputs are accurate and errors are avoided\n",
    "The correct order of operations is crucial in calculations to ensure accurate results and avoid errors.\n",
    "\n",
    "##### 🔹 Example of order of operations\n",
    "#### Calculate the result of an expression\n",
    "```python\n",
    "result = (5 + 3) * 2  # Perform addition first, then multiplication\n",
    "print(result)  # Output the result of the operations\n",
    "```\n",
    "#### ⚠️Exercises:\n",
    "- <span style='color:Green'>Beginner</span> : Write a sequence of operations that calculates the area of a rectangle.\n",
    "- <span style='color:Orange'>Intermediate</span> : Write a sequence of operations that converts temperatures from Celsius to Fahrenheit.\n",
    "- <span style='color:Red'>Advanced</span> : Write a sequence of operations that calculates the compound interest on a given principal amount.\n"
   ]
  },
  {
   "cell_type": "code",
   "execution_count": 810,
   "metadata": {},
   "outputs": [],
   "source": [
    "# Choose a Task above or try to complete all"
   ]
  },
  {
   "cell_type": "markdown",
   "metadata": {},
   "source": [
    "\n",
    "#### 2.4.3 Selection (Branching)\n",
    "Selection (branching) allows the program to make decisions based on conditions.\n",
    "`IF`, `THEN`, `ELSE`, `ELSEIF` (ELIF)\n",
    "The if, elif, and else statements are used to execute different blocks of code based on conditions.\n",
    "\n",
    "##### 🔹 Example of branching using if, elif, and else\n",
    "```python\n",
    "age = 20  # Assign the value 20 to the variable age\n",
    "if age < 18:  # Check if age is less than 18\n",
    "    print(\"Minor\")  # Output 'Minor' if the condition is true\n",
    "elif age < 65:  # Check if age is less than 65\n",
    "    print(\"Adult\")  # Output 'Adult' if the condition is true\n",
    "else:  # If none of the above conditions are true\n",
    "    print(\"Senior\")  # Output 'Senior'\n",
    "```\n",
    "**CASE**\n",
    "The case statement (or match statement in Python 3.10+) is used to execute different blocks of code based on the value of a variable.\n",
    "\n",
    "##### 🔹 Example of branching using match (Python 3.10+)\n",
    "```python\n",
    "status = \"gold\"  # Assign the value 'gold' to the variable status\n",
    "\n",
    "match status:\n",
    "    case \"bronze\":\n",
    "        print(\"Bronze member\")\n",
    "    case \"silver\":\n",
    "        print(\"Silver member\")\n",
    "    case \"gold\":\n",
    "        print(\"Gold member\")\n",
    "    case _:\n",
    "        print(\"Unknown status\")\n",
    "```\n",
    "#### ⚠️Exercises:\n",
    "- <span style='color:Green'>Beginner</span> : Write a branching structure that checks if a number is positive, negative, or zero.\n",
    "- <span style='color:Orange'>Intermediate</span> : Write a branching structure that assigns grades based on a score.\n",
    "- <span style='color:Red'>Advanced</span> : Write a branching structure that determines the type of triangle based on its side lengths.\n"
   ]
  },
  {
   "cell_type": "markdown",
   "metadata": {},
   "source": [
    "#### 2.4.4 Iteration\n",
    "\n",
    "Iteration allows the program to repeat a block of code multiple times.\n",
    "\n",
    "**For Loops**\n",
    "\n",
    "A `for loop` is used to iterate over a sequence (such as a list, tuple, or range) a set number of times.\n",
    "\n",
    "##### 🔹 Example of a for loop\n",
    "```python\n",
    "for i in range(5):  # Iterate over the range 0 to 4\n",
    "    print(i)  # Output the current value of i\n",
    "```\n",
    "**While Loops**\n",
    "A while loop is used to iterate a block of code while a set criterion is met.\n",
    "\n",
    "#### 🔹 Example of a while loop\n",
    "```python\n",
    "count = 0  # Initialize the variable count to 0\n",
    "while count < 5:  # Iterate while count is less than 5\n",
    "    print(count)  # Output the current value of count\n",
    "    count += 1  # Increment count by 1\n",
    "```\n",
    "`Loops` until a set criterion is met\n",
    "\n",
    "`Loops` can be used to iterate code until a set criterion is met.\n",
    "\n",
    "#### 🔹 Example of a loop until a criterion is met\n",
    "```python\n",
    "count = 0  # Initialize the variable count to 0\n",
    "while True:  # Infinite loop\n",
    "    print(count)  # Output the current value of count\n",
    "    count += 1  # Increment count by 1\n",
    "    if count >= 5:  # Check if count is greater than or equal to 5\n",
    "        break  # Exit the loop\n",
    "```\n",
    "#### ⚠️Exercises:\n",
    "- <span style='color:Green'>Beginner</span> : Write a for loop that prints numbers from 1 to 10.\n",
    "- <span style='color:Orange'>Intermediate</span> : Write a while loop that prints the first 10 Fibonacci numbers.\n",
    "- <span style='color:Red'>Advanced</span> : Write a loop that iterates over a list of names and prints each name.\n"
   ]
  },
  {
   "cell_type": "code",
   "execution_count": 811,
   "metadata": {},
   "outputs": [],
   "source": [
    "# Choose a Task above or try to complete all"
   ]
  },
  {
   "cell_type": "markdown",
   "metadata": {},
   "source": [
    "#### 2.4.5 Functions and Procedures\n",
    "\n",
    "Functions and procedures are used to encapsulate code into reusable blocks.\n",
    "\n",
    "Declare and call functions and procedures\n",
    "\n",
    "Functions are declared using the def keyword and can be called by their name.\n",
    "\n",
    "##### 🔹 Example of a function declaration and call\n",
    "```python\n",
    "def greet(name):  # Declare a function named greet with a parameter name\n",
    "    return f\"Hello, {name}!\"  # Return a greeting message\n",
    "\n",
    "print(greet(\"Alice\"))  # Call the function greet with the argument \"Alice\"\n",
    "```\n",
    "#### ⚠️Exercises:\n",
    "- <span style='color:Green'>Beginner</span> : Write a function that takes a name as input and returns a greeting message.\n",
    "- <span style='color:Orange'>Intermediate</span> : Write a function that calculates the square of a number.\n",
    "- <span style='color:Red'>Advanced</span> : Write a function that takes a list of numbers and returns their sum.\n"
   ]
  },
  {
   "cell_type": "code",
   "execution_count": 812,
   "metadata": {},
   "outputs": [],
   "source": [
    "# Choose a Task above or try to complete all"
   ]
  },
  {
   "cell_type": "markdown",
   "metadata": {},
   "source": [
    "#### 2.4.6 Searching and Sorting Algorithms\n",
    "**Linear and Binary Search**\n",
    "\n",
    "`Linear search` iterates through a list to find a target value. `Binary search` divides the list and checks the middle value to find the target.\n",
    "\n",
    "##### 🔹 Example of linear search\n",
    "```python\n",
    "def linear_search(arr, target):  # Declare a function named linear_search with parameters arr and target\n",
    "    for i in range(len(arr)):  # Iterate over the indices of arr\n",
    "        if arr[i] == target:  # Check if the current element is equal to the target\n",
    "            return i  # Return the index if the target is found\n",
    "    return -1  # Return -1 if the target is not found\n",
    "\n",
    "print(linear_search([1, 2, 3, 4], 3))  # Call the function linear_search with a list and target value\n",
    "```\n",
    "\n",
    "##### 🔹 Example of binary search\n",
    "```python\n",
    "def binary_search(arr, target):  # Declare a function named binary_search with parameters arr and target\n",
    "    low = 0  # Initialize the low index to 0\n",
    "    high = len(arr) - 1  # Initialize the high index to the last index of arr\n",
    "\n",
    "    while low <= high:  # Iterate while low is less than or equal to high\n",
    "        mid = (low + high) // 2  # Calculate the middle index\n",
    "        if arr[mid] == target:  # Check if the middle element is equal to the target\n",
    "            return mid  # Return the middle index if the target is found\n",
    "        elif arr[mid] < target:  # Check if the middle element is less than the target\n",
    "            low = mid + 1  # Update the low index to mid + 1\n",
    "        else:  # If the middle element is greater than the target\n",
    "            high = mid - 1  # Update the high index to mid - 1\n",
    "\n",
    "    return -1  # Return -1 if the target is not found\n",
    "\n",
    "print(binary_search([1, 2, 3, 4, 5], 3))  # Call the function binary_search with a sorted list and target value\n",
    "```\n",
    "#### ⚠️Exercises:\n",
    "- <span style='color:Green'>Beginner</span> : Implement a linear search function that finds the index of a target value in a list.\n",
    "- <span style='color:Orange'>Intermediate</span> : Implement a binary search function that finds the index of a target value in a sorted list.\n",
    "- <span style='color:Red'>Advanced</span> : Compare the performance of linear search and binary search on large datasets.\n"
   ]
  },
  {
   "cell_type": "markdown",
   "metadata": {},
   "source": [
    "\n",
    "**Bubble Sort, Insertion Sort, Merge Sort**\n",
    "\n",
    "Sorting algorithms organize data in a specific order.\n",
    "\n",
    "##### 🔹 Example of bubble sort\n",
    "```python\n",
    "def bubble_sort(arr):  # Declare a function named bubble_sort with parameter arr\n",
    "    n = len(arr)  # Get the length of arr\n",
    "    for i in range(n):  # Iterate over the indices of arr\n",
    "        for j in range(0, n-i-1):  # Iterate over the indices up to n-i-1\n",
    "            if arr[j] > arr[j+1]:  # Check if the current element is greater than the next element\n",
    "                arr[j], arr[j+1] = arr[j+1], arr[j]  # Swap the elements\n",
    "    return arr  # Return the sorted array\n",
    "\n",
    "print(bubble_sort([4, 2, 7, 1]))  # Call the function bubble_sort with a list of numbers\n",
    "```\n",
    "#### 🔹 Example of insertion sort\n",
    "```python\n",
    "def insertion_sort(arr):  # Declare a function named insertion_sort with parameter arr\n",
    "    for i in range(1, len(arr)):  # Iterate over the indices starting from 1\n",
    "        key = arr[i]  # Get the current element\n",
    "        j = i - 1  # Initialize the previous index\n",
    "        while j >= 0 and key < arr[j]:  # Iterate while the previous element is greater than the current element\n",
    "            arr[j + 1] = arr[j]  # Shift the previous element to the right\n",
    "            j -= 1  # Decrement the previous index\n",
    "        arr[j + 1] = key  # Insert the current element at the correct position\n",
    "    return arr  # Return the sorted array\n",
    "\n",
    "print(insertion_sort([4, 2, 7, 1]))  # Call the function insertion_sort with a list of numbers\n",
    "```\n",
    "#### 🔹 Example of merge sort\n",
    "```python\n",
    "def merge_sort(arr):  # Declare a function named merge_sort with parameter arr\n",
    "    if len(arr) > 1:  # Check if the length of arr is greater than 1\n",
    "        mid = len(arr) // 2  # Find the middle index\n",
    "        left_half = arr[:mid]  # Divide the array into left half\n",
    "        right_half = arr[mid:]  # Divide the array into right half\n",
    "\n",
    "        merge_sort(left_half)  # Recursively sort the left half\n",
    "        merge_sort(right_half)  # Recursively sort the right half\n",
    "\n",
    "        i = j = k = 0  # Initialize indices for left_half, right_half, and arr\n",
    "\n",
    "        while i < len(left_half) and j < len(right_half):  # Merge the sorted halves\n",
    "            if left_half[i] < right_half[j]:  # Compare elements of left_half and right_half\n",
    "                arr[k] = left_half[i]  # Place the smaller element in arr\n",
    "                i += 1  # Increment the index of left_half\n",
    "            else:\n",
    "                arr[k] = right_half[j]  # Place the smaller element in arr\n",
    "                j += 1  # Increment the index of right_half\n",
    "            k += 1  # Increment the index of arr\n",
    "\n",
    "        while i < len(left_half):  # Copy the remaining elements of left_half\n",
    "            arr[k] = left_half[i]\n",
    "            i += 1\n",
    "            k += 1\n",
    "\n",
    "        while j < len(right_half):  # Copy the remaining elements of right_half\n",
    "            arr[k] = right_half[j]\n",
    "            j += 1\n",
    "            k += 1\n",
    "\n",
    "    return arr  # Return the sorted array\n",
    "\n",
    "print(merge_sort([4, 2, 7, 1]))  # Call the function merge_sort with a list of numbers\n",
    "```\n",
    "#### ⚠️Exercises:\n",
    "- <span style='color:Green'>Beginner</span> : Implement a bubble sort function that sorts a list of numbers.\n",
    "- <span style='color:Orange'>Intermediate</span> : Implement an insertion sort function that sorts a list of numbers.\n",
    "- <span style='color:Red'>Advanced</span> : Implement a merge sort function that sorts a list of numbers and compare its performance with bubble sort and insertion sort.\n"
   ]
  },
  {
   "cell_type": "code",
   "execution_count": 813,
   "metadata": {},
   "outputs": [],
   "source": [
    "# Choose a Task above or try to complete all"
   ]
  },
  {
   "cell_type": "markdown",
   "metadata": {},
   "source": [
    "---"
   ]
  },
  {
   "cell_type": "markdown",
   "metadata": {},
   "source": [
    "### 2.5 Built-in Functions\n",
    "#### 2.5.1 Benefits and Drawbacks\n",
    "\n",
    "Understand the benefits and drawbacks of using pre-written code.\n",
    "\n",
    "Benefits:\n",
    "- Saves time and effort.\n",
    "- Reduces the likelihood of errors.\n",
    "- Provides tested and optimized solutions.\n",
    "Drawbacks:\n",
    "- May not be tailored to specific needs.\n",
    "- Can introduce dependencies.\n",
    "- May have performance limitations.\n",
    "\n",
    "#### ⚠️Exercises:\n",
    "- <span style='color:Green'>Beginner</span> : List three built-in functions you have used and describe their benefits.\n",
    "- <span style='color:Orange'>Intermediate</span> : Write a function that uses a built-in function to find the maximum value in a list.\n",
    "- <span style='color:Red'>Advanced</span> : Compare the performance of a built-in function with a custom implementation for the same task."
   ]
  },
  {
   "cell_type": "markdown",
   "metadata": {},
   "source": [
    "#### 2.5.2 Selecting Pre-written Code\n",
    "\n",
    "Be able to select and justify the use of pre-written code provided by the Python programming language.\n",
    "\n",
    "##### 🔹 Example of using a built-in function\n",
    "```python\n",
    "numbers = [4, 2, 7, 1]  # Define a list of numbers\n",
    "max_value = max(numbers)  # Use the built-in max function to find the maximum value\n",
    "print(f\"The maximum value is {max_value}\")  # Output the maximum value\n",
    "```\n",
    "#### ⚠️Exercises:\n",
    "- <span style='color:Green'>Beginner</span> : Use a built-in function to find the length of a string.\n",
    "- <span style='color:Orange'>Intermediate</span> : Use a built-in function to sort a list of numbers.\n",
    "- <span style='color:Red'>Advanced</span> : Justify the use of a built-in function over a custom implementation for a specific task."
   ]
  },
  {
   "cell_type": "markdown",
   "metadata": {},
   "source": [
    "#### 2.5.3 Using Pre-written Code\n",
    "\n",
    "Be able to write code that makes use of user-written and pre-written code.\n",
    "\n",
    "\n",
    "##### 🔹 Example of using a built-in function and a user-written function\n",
    "```python\n",
    "def custom_sum(a, b):  # Declare a user-written function named custom_sum with parameters a and b\n",
    "    return a + b  # Return the sum of a and b\n",
    "\n",
    "numbers = [4, 2, 7, 1]  # Define a list of numbers\n",
    "total = sum(numbers)  # Use the built-in sum function to find the total sum\n",
    "custom_total = custom_sum(3, 5)  # Call the user-written function custom_sum with arguments 3 and 5\n",
    "\n",
    "print(f\"The total sum is {total}\")  # Output the total sum\n",
    "print(f\"The custom sum is {custom_total}\")  # Output the custom sum\n",
    "```\n",
    "#### ⚠️Exercises:\n",
    "- <span style='color:Green'>Beginner</span> : Write a function that uses a built-in function to calculate the sum of a list of numbers.\n",
    "- <span style='color:Orange'>Intermediate</span> : Write a function that combines the use of a built-in function and a user-written function.\n",
    "- <span style='color:Red'>Advanced</span> : Write a function that uses multiple built-in functions to perform a complex task.\n"
   ]
  },
  {
   "cell_type": "code",
   "execution_count": 814,
   "metadata": {},
   "outputs": [],
   "source": [
    "# Choose a Task above or try to complete all"
   ]
  },
  {
   "cell_type": "markdown",
   "metadata": {},
   "source": [
    "---"
   ]
  },
  {
   "cell_type": "markdown",
   "metadata": {},
   "source": [
    "### 2.6 Validation and Error Handling\n",
    "#### 2.6.1 Input Validation\n",
    "\n",
    "Understand the need for different types of input validation to handle common and unexpected errors.\n",
    "\n",
    "Types of Input Validation:\n",
    "-\t`Presence Check`: Ensures that a required field is not empty.\n",
    "-\t`Length Check`: Ensures that the input meets a specified\n",
    "-\t`Type Check`: Ensures that the input is of the correct data type.\n",
    "-\t`Format Check`: Ensures that the input matches a specified format.\n",
    "-\t`Range Check`: Ensures that the input falls within a specified range.\n",
    "-\t`Check Digit`: Ensures that the input includes a valid check digit.\n",
    "\n",
    "##### 🔹 Example of input validation\n",
    "```python\n",
    "def validate_input(value):  # Declare a function named validate_input with parameter value\n",
    "    if not value:  # Presence check: Ensure the value is not empty\n",
    "        return \"Input cannot be empty\"\n",
    "    if len(value) < 5:  # Length check: Ensure the value is at least 5 characters long\n",
    "        return \"Input must be at least 5 characters long\"\n",
    "    if not value.isdigit():  # Type check: Ensure the value is a digit\n",
    "        return \"Input must be a number\"\n",
    "    if not value.startswith(\"A\"):  # Format check: Ensure the value starts with 'A'\n",
    "        return \"Input must start with 'A'\"\n",
    "    if int(value[1:]) < 10 or int(value[1:]) > 100:  # Range check: Ensure the numeric part is within range\n",
    "        return \"Number must be between 10 and 100\"\n",
    "    return \"Valid input\"\n",
    "\n",
    "print(validate_input(\"A50\"))  # Call the function validate_input with the argument \"A50\"\n",
    "```\n",
    "#### ⚠️Exercises:\n",
    "- <span style='color:Green'>Beginner</span> : Write a function that performs a presence check on a string input.\n",
    "- <span style='color:Orange'>Intermediate</span> : Write a function that performs a length check on a string input.\n",
    "- <span style='color:Red'>Advanced</span> : Write a function that performs multiple validation checks on a string input.\n"
   ]
  },
  {
   "cell_type": "code",
   "execution_count": 815,
   "metadata": {},
   "outputs": [],
   "source": [
    "# Choose a Task above or try to complete all"
   ]
  },
  {
   "cell_type": "markdown",
   "metadata": {},
   "source": [
    "#### 2.6.2 Reliable and Robust Code\n",
    "\n",
    "Understand the need to develop reliable and robust code.\n",
    "\n",
    "`Reliable Code`: Code that consistently performs its intended function without errors. Robust Code: Code that can handle unexpected inputs and conditions gracefully.\n",
    "\n",
    "#### 🔹 Example of reliable and robust code\n",
    "```python\n",
    "def divide_numbers(a, b):  # Declare a function named divide_numbers with parameters a and b\n",
    "    try:\n",
    "        result = a / b  # Attempt to divide a by b\n",
    "    except ZeroDivisionError:  # Handle division by zero error\n",
    "        return \"Cannot divide by zero\"\n",
    "    except TypeError:  # Handle incorrect data type error\n",
    "        return \"Inputs must be numbers\"\n",
    "    return result  # Return the result of the division\n",
    "\n",
    "print(divide_numbers(10, 2))  # Call the function divide_numbers with arguments 10 and 2\n",
    "print(divide_numbers(10, 0))  # Call the function divide_numbers with arguments 10 and 0\n",
    "print(divide_numbers(10, \"a\"))  # Call the function divide_numbers with arguments 10 and \"a\"\n",
    "```\n",
    "#### ⚠️Exercises:\n",
    "- <span style='color:Green'>Beginner</span> : Write a function that handles division by zero errors.\n",
    "- <span style='color:Orange'>Intermediate</span> : Write a function that handles incorrect data type errors.\n",
    "- <span style='color:Red'>Advanced</span> : Write a function that handles multiple types of errors and returns appropriate messages.\n"
   ]
  },
  {
   "cell_type": "code",
   "execution_count": 816,
   "metadata": {},
   "outputs": [],
   "source": [
    "# Choose a Task above or try to complete all"
   ]
  },
  {
   "cell_type": "markdown",
   "metadata": {},
   "source": [
    "----"
   ]
  },
  {
   "cell_type": "markdown",
   "metadata": {},
   "source": [
    "### 2.7 Maintainable Code\n",
    "#### 2.7.1 Accepted Style Conventions\n",
    "\n",
    "Understand accepted style conventions (such as Python’s PEP 8) and how these are implemented to create readable and maintainable code.\n",
    "\n",
    "**PEP 8**: Python Enhancement Proposal 8, a style guide for Python code.\n",
    "\n",
    "Key Conventions:\n",
    "-\t`Indentation`: Use 4 spaces per indentation level.\n",
    "-\t`Line Length`: Limit lines to 79 characters.\n",
    "-\t`Blank Lines`: Use blank lines to separate functions and classes.\n",
    "-\t`Imports`: Group imports in the following order: standard library, third-party libraries, local imports.\n",
    "-\t`Naming Conventions`: Use meaningful names and follow case styles (e.g., snake_case for variables and functions, PascalCase for classes).\n",
    "\n",
    "\n",
    "##### 🔹 Example of PEP 8 style conventions\n",
    "```python\n",
    "import math  # Standard library import\n",
    "\n",
    "def calculate_area(radius):  # Function name in snake_case\n",
    "    \"\"\"Calculate the area of a circle given its radius.\"\"\"  # Docstring\n",
    "    if radius < 0:  # Check for negative radius\n",
    "        return \"Radius cannot be negative\"\n",
    "    return math.pi * radius ** 2  # Calculate and return the area\n",
    "\n",
    "class Circle:  # Class name in PascalCase\n",
    "    def __init__(self, radius):  # Method name in snake_case\n",
    "        self.radius = radius  # Instance variable in snake_case\n",
    "\n",
    "    def area(self):  # Method name in snake_case\n",
    "        return calculate_area(self.radius)  # Call the calculate_area function\n",
    "\n",
    "circle = Circle(5)  # Create an instance of the Circle class\n",
    "print(circle.area())  # Output the area of the circle\n",
    "```\n",
    "#### ⚠️Exercises:\n",
    "- <span style='color:Green'>Beginner</span> : Write a function that follows PEP 8 style conventions.\n",
    "- <span style='color:Orange'>Intermediate</span> : Refactor a given piece of code to follow PEP 8 style conventions.\n",
    "- <span style='color:Red'>Advanced</span> : Write a class that follows PEP 8 style conventions and includes methods with docstrings.\n"
   ]
  },
  {
   "cell_type": "code",
   "execution_count": 817,
   "metadata": {},
   "outputs": [],
   "source": [
    "# Choose a Task above or try to complete all"
   ]
  },
  {
   "cell_type": "markdown",
   "metadata": {},
   "source": [
    "---"
   ]
  },
  {
   "cell_type": "markdown",
   "metadata": {},
   "source": [
    "### 2.8 Testing\n",
    "#### 2.8.1 Importance of Testing\n",
    "\n",
    "Understand the fundamental importance of testing for all components.\n",
    "\n",
    "Components to Test:\n",
    "-\tSoftware: Ensure the software performs its intended functions.\n",
    "-\tHardware: Ensure the hardware components work correctly.\n",
    "-\tData: Ensure the data is accurate and consistent.\n",
    "-\tInterfaces: Ensure the interfaces between components work correctly.\n",
    "-\tResulting Service: Ensure the final product meets the requirements.\n",
    "\n",
    "##### ⚠️Exercises:\n",
    "- <span style='color:Green'>Beginner</span> : List the components that should be tested in a software project.\n",
    "- <span style='color:Orange'>Intermediate</span> : Write a function that tests the output of another function.\n",
    "- <span style='color:Red'>Advanced</span> : Write a test plan that includes tests for software, hardware, data, interfaces, and the resulting service.\n"
   ]
  },
  {
   "cell_type": "code",
   "execution_count": 818,
   "metadata": {},
   "outputs": [],
   "source": [
    "# Choose a Task above or try to complete all"
   ]
  },
  {
   "cell_type": "markdown",
   "metadata": {},
   "source": [
    "#### 2.8.2 Testing and Quality Assurance Methodologies\n",
    "\n",
    "Understand the use of testing and quality assurance methodologies to seek out problems and issues.\n",
    "\n",
    "Methodologies:\n",
    "-\tConcept Testing: Validate the initial concept or idea.\n",
    "-\tUnit Testing: Test individual components or functions.\n",
    "-\tBoundary Testing: Test the boundaries of input values.\n",
    "-\tIntegration Testing: Test the interaction between components.\n",
    "-\tPerformance Testing: Test the performance and scalability.\n",
    "-\tSystem Testing: Test the entire system as a whole.\n",
    "-\tAcceptance and Usability Testing: Validate the system meets user requirements and is user-friendly.\n",
    "-\tRegression Testing: Ensure new changes do not introduce new bugs.\n",
    "-\tLoad/Stress Testing: Test the system under heavy load or stress.\n",
    "\n",
    "#### 🔹 Example of unit testing using the unittest module\n",
    "```python\n",
    "import unittest  # Import the unittest module\n",
    "\n",
    "def add(a, b):  # Declare a function named add with parameters a and b\n",
    "    return a + b  # Return the sum of a and b\n",
    "\n",
    "class TestAddFunction(unittest.TestCase):  # Define a test case class that inherits from unittest.TestCase\n",
    "    def test_add_positive_numbers(self):  # Define a test method for positive numbers\n",
    "        self.assertEqual(add(2, 3), 5)  # Assert that add(2, 3) equals 5\n",
    "\n",
    "    def test_add_negative_numbers(self):  # Define a test method for negative numbers\n",
    "        self.assertEqual(add(-2, -3), -5)  # Assert that add(-2, -3) equals -5\n",
    "\n",
    "    def test_add_zero(self):  # Define a test method for zero\n",
    "        self.assertEqual(add(0, 0), 0)  # Assert that add(0, 0) equals 0\n",
    "\n",
    "if __name__ == '__main__':  # Check if the script is being run directly\n",
    "    unittest.main()  # Run the unit tests\n",
    "```\n",
    "##### ⚠️Exercises:\n",
    "- <span style='color:Green'>Beginner</span> : Write a unit test for a simple function.\n",
    "- <span style='color:Orange'>Intermediate</span> : Write a test that performs boundary testing on a function.\n",
    "- <span style='color:Red'>Advanced</span> : Write a test suite that includes unit tests, integration tests, and performance tests."
   ]
  },
  {
   "cell_type": "code",
   "execution_count": 819,
   "metadata": {},
   "outputs": [],
   "source": [
    "# Choose a Task above or try to complete all"
   ]
  },
  {
   "cell_type": "markdown",
   "metadata": {},
   "source": [
    "#### 2.8.3 Automated and Functional Testing Tools\n",
    "Understand how `automated` and `functional` testing tools can be applied to test digital systems and code.\n",
    "\n",
    "- `Automated` Testing Tools: Tools that automate the execution of tests (e.g., Selenium, JUnit, pytest).\n",
    "\n",
    "- `Functional` Testing Tools: Tools that test the functionality of the system (e.g., QTP, TestComplete).\n",
    "\n",
    "##### 🔹 Example of automated testing using pytest\n",
    "```python\n",
    "import pytest  # Import the pytest module\n",
    "\n",
    "def multiply(a, b):  # Declare a function named multiply with parameters a and b\n",
    "    return a * b  # Return the product of a and b\n",
    "\n",
    "def test_multiply_positive_numbers():  # Define a test function for positive numbers\n",
    "    assert multiply(2, 3) == 6  # Assert that multiply(2, 3) equals 6\n",
    "\n",
    "def test_multiply_negative_numbers():  # Define a test function for negative numbers\n",
    "    assert multiply(-2, -3) == 6  # Assert that multiply(-2, -3) equals 6\n",
    "\n",
    "def test_multiply_zero():  # Define a test function for zero\n",
    "    assert multiply(0, 0) == 0  # Assert that multiply(0, 0) equals 0\n",
    "\n",
    "if __name__ == '__main__':  # Check if the script is being run directly\n",
    "    pytest.main()  # Run the tests using pytest\n",
    "```\n",
    "##### ⚠️Exercises:\n",
    "- <span style='color:Green'>Beginner</span> : Write a simple automated test using pytest.\n",
    "- <span style='color:Orange'>Intermediate</span> : Write a functional test that checks the output of a web application using Selenium.\n",
    "- <span style='color:Red'>Advanced</span> : Write a test suite that includes automated tests for multiple functions and integrates with a continuous integration system.\n"
   ]
  },
  {
   "cell_type": "code",
   "execution_count": 820,
   "metadata": {},
   "outputs": [],
   "source": [
    "# Choose a Task above or try to complete all"
   ]
  },
  {
   "cell_type": "markdown",
   "metadata": {},
   "source": [
    "#### 2.8.4 Root Cause Analysis\n",
    "\n",
    "- Understand how to apply root cause analysis to solve problems.\n",
    "\n",
    "**What it is:** Root cause analysis is a method used to identify the underlying causes of problems. When to use it: Use root cause analysis when you need to understand why a problem occurred and how to prevent it in the future. How to use it: The five whys technique involves asking \"why\" five times to drill down to the root cause of a problem. What next: Once the root cause is identified, implement solutions to address it and prevent recurrence.\n",
    "\n",
    "#### 🔹 Example of root cause analysis using the five whys technique\n",
    "```python\n",
    "def root_cause_analysis(problem):  # Declare a function named root_cause_analysis with parameter problem\n",
    "    whys = []  # Initialize an empty list to store the whys\n",
    "    for i in range(5):  # Iterate five times\n",
    "        why = input(f\"Why {i+1}: {problem}? \")  # Ask why the problem occurred\n",
    "        whys.append(why)  # Append the answer to the list\n",
    "        problem = why  # Update the problem to the answer\n",
    "    return whys  # Return the list of whys\n",
    "\n",
    "problem = \"The car won't start\"  # Define the initial problem\n",
    "whys = root_cause_analysis(problem)  # Call the function root_cause_analysis with the initial problem\n",
    "print(\"Root Cause Analysis:\", whys)  # Output the root cause analysis\n",
    "```\n",
    "##### ⚠️Exercises:\n",
    "- <span style='color:Green'>Beginner</span> : Perform a root cause analysis on a simple problem using the five whys technique.\n",
    "- <span style='color:Orange'>Intermediate</span> : Write a function that performs root cause analysis on a given problem.\n",
    "- <span style='color:Red'>Advanced</span> : Implement a root cause analysis tool that allows users to input problems and track the analysis process.\n"
   ]
  },
  {
   "cell_type": "code",
   "execution_count": 821,
   "metadata": {},
   "outputs": [],
   "source": [
    "# Choose a Task above or try to complete all"
   ]
  },
  {
   "cell_type": "markdown",
   "metadata": {},
   "source": [
    "#### 2.8.5 Constructing an Effective Test Plan\n",
    "\n",
    "Understand how to construct an effective test plan.\n",
    "\n",
    "Identifying Tests to be Carried Out: Determine the tests needed to validate the system. Describing the Purpose of the Identified Test: Explain why each test is necessary. Identifying Test Data to be Used: Select appropriate test data (valid, valid extreme, invalid, invalid extreme, erroneous).\n",
    "\n",
    "Describing the Expected Results: Define the expected outcomes of each test.\n",
    "\n",
    "🔹 Example\n",
    "#### Example of constructing a test plan\n",
    "```python\n",
    "def construct_test_plan():  # Declare a function named construct_test_plan\n",
    "    test_plan = []  # Initialize an empty list to store the test plan\n",
    "\n",
    "    # Identify tests to be carried out\n",
    "    tests = [\"Functionality Test\", \"Performance Test\", \"Security Test\"]\n",
    "    for test in tests:\n",
    "        # Describe the purpose of the identified test\n",
    "        purpose = f\"The purpose of the {test} is to ensure the system meets the required standards.\"\n",
    "\n",
    "        # Identify test data to be used\n",
    "        test_data = {\n",
    "            \"valid\": [\"data1\", \"data2\"],\n",
    "            \"valid_extreme\": [\"data3\", \"data4\"],\n",
    "            \"invalid\": [\"data5\", \"data6\"],\n",
    "            \"invalid_extreme\": [\"data7\", \"data8\"],\n",
    "            \"erroneous\": [\"data9\", \"data10\"]\n",
    "        }\n",
    "\n",
    "        # Describe the expected results\n",
    "        expected_results = f\"The expected result of the {test} is successful validation of the system.\"\n",
    "\n",
    "        # Append the test details to the test plan\n",
    "        test_plan.append({\n",
    "            \"test\": test,\n",
    "            \"purpose\": purpose,\n",
    "            \"test_data\": test_data,\n",
    "            \"expected_results\": expected_results\n",
    "        })\n",
    "\n",
    "    return test_plan  # Return the test plan\n",
    "\n",
    "test_plan = construct_test_plan()  # Call the function construct_test_plan\n",
    "for test in test_plan:  # Iterate over the test plan\n",
    "    print(f\"Test: {test['test']}\")  # Output the test name\n",
    "    print(f\"Purpose: {test['purpose']}\")  # Output the test purpose\n",
    "    print(f\"Test Data: {test['test_data']}\")  # Output the test data\n",
    "    print(f\"Expected Results: {test['expected_results']}\")  # Output the expected results\n",
    "    print()\n",
    "```    \n",
    "#### ⚠️Exercises:\n",
    "- <span style='color:Green'>Beginner</span> : List the tests that should be included in a test plan for a simple application.\n",
    "- <span style='color:Orange'>Intermediate</span> : Write a function that constructs a test plan for a given application.\n",
    "- <span style='color:Red'>Advanced</span> : Implement a tool that allows users to create and manage test plans for complex systems.\n",
    "\n"
   ]
  },
  {
   "cell_type": "code",
   "execution_count": 822,
   "metadata": {},
   "outputs": [],
   "source": [
    "# Choose a Task above or try to complete all"
   ]
  },
  {
   "cell_type": "markdown",
   "metadata": {},
   "source": [
    "---"
   ]
  },
  {
   "cell_type": "markdown",
   "metadata": {},
   "source": [
    "### 2.9 Libraries\n",
    "#### 2.9.1 Introduction to Libraries\n",
    "\n",
    "Libraries are collections of pre-written code that can be used to perform common tasks, saving time and effort. Python has a vast ecosystem of libraries for various purposes, including data manipulation, web development, machine learning, and more.\n",
    "\n",
    "#### 2.9.2 Standard Libraries\n",
    "\n",
    "Python comes with a set of standard libraries that are included with the Python installation. These libraries provide functionality for common tasks such as file handling, mathematical operations, and data manipulation.\n",
    "\n",
    "🔹 Examples\n",
    "-\t`math`: Provides mathematical functions.\n",
    "    ```python\n",
    "\timport math\n",
    "\tprint(math.sqrt(16))  # Output: 4.0\n",
    "    ```\n",
    "-\t`datetime`: Provides classes for manipulating dates and times.\n",
    "    ```python\n",
    "\tfrom datetime import datetime\n",
    "\tnow = datetime.now()\n",
    "\tprint(now)  # Output: Current date and time\n",
    "    ```\n",
    "-\t`os`: Provides functions for interacting with the operating system.\n",
    "```python\n",
    "\timport os\n",
    "\tprint(os.getcwd())  # Output: Current working directory\n",
    "```\n",
    "##### ⚠️Exercises:\n",
    "- <span style='color:Green'>Beginner</span> : Use the math library to calculate the square root of a number.\n",
    "- <span style='color:Orange'>Intermediate</span> : Use the datetime library to print the current date and time.\n",
    "- <span style='color:Red'>Advanced</span> : Use the os library to list all files in the current directory.\n"
   ]
  },
  {
   "cell_type": "markdown",
   "metadata": {},
   "source": [
    "#### 2.9.3 Third-Party Libraries\n",
    "\n",
    "Third-party libraries are developed by the Python community and can be installed using package managers like pip. These libraries extend Python's functionality and are used for specific tasks such as web development, data analysis, and machine learning.\n",
    "\n",
    "🔹 Examples\n",
    "-\t`requests`: Used for making HTTP requests.\n",
    "\timport requests\n",
    "\tresponse = requests.get('https://api.github.com')\n",
    "\tprint(response.status_code)  # Output: 200\n",
    "-\t`numpy`: Used for numerical computations.\n",
    "\timport numpy as np\n",
    "\tarray = np.array([1, 2, 3, 4])\n",
    "\tprint(array)  # Output: [1 2 3 4]\n",
    "-\t`pandas`: Used for data manipulation and analysis.\n",
    "\timport pandas as pd\n",
    "\tdata = {'Name': ['Alice', 'Bob'], 'Age': [25, 30]}\n",
    "\tdf = pd.DataFrame(data)\n",
    "\tprint(df)\n",
    "##### ⚠️Exercises:\n",
    "- <span style='color:Green'>Beginner</span> : Use the requests library to make a GET request to a website and print the status code.\n",
    "- <span style='color:Orange'>Intermediate</span> : Use the numpy library to create an array and perform basic operations on it.\n",
    "- <span style='color:Red'>Advanced</span> : Use the pandas library to create a DataFrame and print its contents.\n"
   ]
  },
  {
   "cell_type": "markdown",
   "metadata": {},
   "source": [
    "#### 2.9.4 Installing Libraries\n",
    "Libraries can be installed using package managers like pip. The pip command is used to install, upgrade, and manage Python packages.\n",
    "🔹 Example\n",
    "#### Install a library using pip\n",
    "```python\n",
    "!pip install requests\n",
    "```\n",
    "##### ⚠️Exercises:\n",
    "- <span style='color:Green'>Beginner</span> : Install the requests library using pip.\n",
    "- <span style='color:Orange'>Intermediate</span> : Install the numpy library using pip.\n",
    "- <span style='color:Red'>Advanced</span> : Install the pandas library using pip and verify the installation by importing it in a script.\n"
   ]
  },
  {
   "cell_type": "markdown",
   "metadata": {},
   "source": [
    "#### 2.9.5 Using Libraries in Projects\n",
    "Libraries can be imported and used in Python projects to extend functionality and simplify tasks.\n",
    "\n",
    "##### 🔹 Example of using multiple libraries in a project\n",
    "```python\n",
    "import requests\n",
    "import numpy as np\n",
    "import pandas as pd\n",
    "```\n",
    "##### Make an HTTP request\n",
    "```python\n",
    "response = requests.get('https://api.github.com')\n",
    "print(response.status_code)\n",
    "```\n",
    "##### Create a numpy array\n",
    "```python\n",
    "array = np.array([1, 2, 3, 4])\n",
    "print(array)\n",
    "```\n",
    "##### Create a pandas DataFrame\n",
    "```python\n",
    "data = {'Name': ['Alice', 'Bob'], 'Age': [25, 30]}\n",
    "df = pd.DataFrame(data)\n",
    "print(df)\n",
    "```\n",
    "##### ⚠️Exercises:\n",
    "- <span style='color:Green'>Beginner</span> : Use the requests library to fetch data from a website and print the response.\n",
    "- <span style='color:Orange'>Intermediate</span> : Use the numpy library to perform mathematical operations on an array.\n",
    "- <span style='color:Red'>Advanced</span> : Use the pandas library to manipulate and analyze data in a DataFrame.\n"
   ]
  }
 ],
 "metadata": {
  "kernelspec": {
   "display_name": "Python 3",
   "language": "python",
   "name": "python3"
  },
  "language_info": {
   "codemirror_mode": {
    "name": "ipython",
    "version": 3
   },
   "file_extension": ".py",
   "mimetype": "text/x-python",
   "name": "python",
   "nbconvert_exporter": "python",
   "pygments_lexer": "ipython3",
   "version": "3.13.0"
  }
 },
 "nbformat": 4,
 "nbformat_minor": 2
}
